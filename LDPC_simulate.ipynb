{
  "cells": [
    {
      "cell_type": "markdown",
      "metadata": {
        "id": "r5geqTlNLjt6"
      },
      "source": [
        "# Low-Density Parity-Check (LDPC)\n",
        "\n",
        "Mã kiểm tra chẵn lẻ mật độ thấp (LDPC) được hỗ trợ cho chuẩn 5G.\n",
        "\n",
        "Bước đầu tiên là import thư viện hỗ trợ mã hóa và giải mã."
      ]
    },
    {
      "cell_type": "code",
      "execution_count": 1,
      "metadata": {
        "id": "sPPefGJ_LJQ6"
      },
      "outputs": [],
      "source": [
        "try:\n",
        "    import sionna\n",
        "except ImportError as e:\n",
        "    import os\n",
        "    os.system(\"pip install sionna\")\n",
        "    import sionna"
      ]
    },
    {
      "cell_type": "markdown",
      "metadata": {
        "id": "w7Goz3srTYYG"
      },
      "source": [
        "# Mã hóa kênh trong 5G và tỷ lệ Matching: Polar với LDPC\n",
        "\n",
        "Mục dưới đây sẽ làm các phần sau:\n",
        "- Mã LDPC, giá trị k lên tới 8448 bit thông tin trên mỗi từ mã\n",
        "- Mã Polar bao gồm ghép CRC và rate-matching cho 5G\n",
        "\n",
        "## Cấu hình và sử dụng GPU\n",
        "\n",
        "Mô phỏng này ưu tiên dùng GPU vì khối lượng tính toán lớn và đảm bảo tốc độ chạy."
      ]
    },
    {
      "cell_type": "code",
      "execution_count": null,
      "metadata": {
        "colab": {
          "base_uri": "https://localhost:8080/"
        },
        "id": "QLY11WqNP1HI",
        "outputId": "4e774fde-bb47-445f-998b-6d9b4a0432a7"
      },
      "outputs": [],
      "source": [
        "import matplotlib.pyplot as plt\n",
        "import numpy as np\n",
        "import tensorflow as tf\n",
        "import time\n",
        "\n",
        "gpus = tf.config.list_physical_devices('GPU')\n",
        "print('Số lượng GPU trên thiết bị :', len(gpus))\n",
        "if gpus:\n",
        "    gpu_num = 0 # Number of the GPU to be used\n",
        "    try:\n",
        "        #tf.config.set_visible_devices([], 'GPU')\n",
        "        tf.config.set_visible_devices(gpus[gpu_num], 'GPU')\n",
        "        print('Chỉ GPU số', gpu_num, 'được sử dụng.')\n",
        "        tf.config.experimental.set_memory_growth(gpus[gpu_num], True)\n",
        "    except RuntimeError as e:\n",
        "        print(e)\n",
        "\n",
        "from sionna.mapping import Constellation, Mapper, Demapper\n",
        "from sionna.fec.polar import PolarEncoder, Polar5GEncoder, PolarSCLDecoder, Polar5GDecoder, PolarSCDecoder\n",
        "from sionna.fec.ldpc import LDPC5GEncoder, LDPC5GDecoder\n",
        "from sionna.fec.linear import OSDecoder\n",
        "from sionna.utils import BinarySource, ebnodb2no\n",
        "from sionna.utils.metrics import  count_block_errors\n",
        "from sionna.channel import AWGN\n",
        "from sionna.utils.plotting import PlotBER"
      ]
    },
    {
      "cell_type": "markdown",
      "metadata": {
        "id": "uC127hlsWDNT"
      },
      "source": [
        "## Hiệu suất BER của mã hóa 5G\n",
        "\n",
        "Đầu tiên chúng ta phân tích vào mã hóa tin có độ dài ngắn, ví dụ như trong IoT và truyền thông có độ trễ cực thấp (ultra-reliable low-latency communications  - URLLC).\n",
        "\n",
        "Class `PlotBER` sẽ hỗ trợ vẽ đồ thị về BER với những dữ liệu của mình.\n",
        "\n",
        "Sionna API cho phép chuyển tiếp đối tượng encoder tới khởi tạo decoder để phục vụ cho quá trình mô phỏng.\n",
        "\n",
        "Dưới đây là tạo mô hình mô phỏng.\n"
      ]
    },
    {
      "cell_type": "code",
      "execution_count": 3,
      "metadata": {
        "id": "_YRTNj72XNFl"
      },
      "outputs": [],
      "source": [
        "class System_Model(tf.keras.Model):\n",
        "    \"\"\"Model hệ thống cho mô phỏng BER trong mã hóa kênh.\n",
        "\n",
        "    Model này cho phép mô phỏng BER qua kênh AWGN với điều chế QAM.\n",
        "    Các lớp encoder/decoder FEC tùy ý có thể được sử dụng để khởi\n",
        "    tạo model này.\n",
        "\n",
        "    Parameters\n",
        "    ----------\n",
        "        k: int\n",
        "            số bit thông tin trên mỗi từ mã.\n",
        "\n",
        "        n: int\n",
        "            chiều dài từ mã.\n",
        "\n",
        "        num_bits_per_symbol: int\n",
        "            lượng bit trên mỗi QAM symbol.\n",
        "\n",
        "        encoder: Keras layer\n",
        "            Lớp thực hiện encoder.\n",
        "\n",
        "        decoder: Keras layer\n",
        "            Lớp thực hiện decoder llr tensors.\n",
        "\n",
        "        demapping_method: str\n",
        "            Phương pháp ánh xạ. Có thể là \"app\" hoặc \"maxlog\".\n",
        "\n",
        "        sim_esno: bool\n",
        "            Mặc định là False. Nếu True, không có sự điều chỉnh tỷ lệ nào được thực hiện cho phép tính SNRSNR.\n",
        "\n",
        "         cw_estiamtes: bool\n",
        "            Mặc định là False. Nếu True, thay vì việc ước tính như trước, thông tin từ mã được trả về.\n",
        "    Input\n",
        "    -----\n",
        "        batch_size: int hoặc tf.int\n",
        "            batch_size sử dụng cho việc mã hóa.\n",
        "\n",
        "        ebno_db: float hoặc tf.float\n",
        "            Xác định SNR mô phỏng.\n",
        "\n",
        "    Output\n",
        "    ------\n",
        "        (u, u_hat):\n",
        "            Tuple:\n",
        "\n",
        "        u: tf.float32\n",
        "            Một tensor dạng `[batch_size, k] chỉ chứa bit 0 và 1 chứa các thông tin bit được truyền.\n",
        "\n",
        "        u_hat: tf.float32\n",
        "            Một tensor dạng `[batch_size, k] chỉ chứa bit 0 và 1 chứa bit thông tin được ước tính.\n",
        "    \"\"\"\n",
        "    def __init__(self,k,n,num_bits_per_symbol,encoder,decoder,demapping_method=\"app\",sim_esno=False,cw_estimates=False):\n",
        "        super().__init__()\n",
        "        # các tham số chính\n",
        "        self.k = k\n",
        "        self.n = n\n",
        "        self.sim_esno = sim_esno\n",
        "        self.cw_estimates=cw_estimates\n",
        "        self.num_bits_per_symbol = num_bits_per_symbol\n",
        "\n",
        "        # khởi tạo nguồn tạo thông tin\n",
        "        self.source = BinarySource()\n",
        "\n",
        "        # Khởi tạo ánh xạ và giải mã\n",
        "        self.constellation = Constellation(\"qam\", num_bits_per_symbol=self.num_bits_per_symbol)\n",
        "        self.mapper = Mapper(constellation=self.constellation)\n",
        "        self.demapper = Demapper(demapping_method, constellation=self.constellation)\n",
        "\n",
        "        # kênh truyền, có thể được thay thế bằng các mô hình phức tạp hơn\n",
        "        # tại đây sử dụng nhiễu trắng trên kênh truyền\n",
        "        self.channel = AWGN()\n",
        "\n",
        "        # FEC encoder / decoder\n",
        "        self.encoder = encoder\n",
        "        self.decoder = decoder\n",
        "\n",
        "    @tf.function() # bật chế độ graph để tăng dữ liệu truyền nhận (thông lượng)\n",
        "    def call(self, batch_size, ebno_db):\n",
        "\n",
        "        # tính phương sai noise\n",
        "        if self.sim_esno:\n",
        "                no = ebnodb2no(ebno_db,\n",
        "                       num_bits_per_symbol=1,\n",
        "                       coderate=1)\n",
        "        else:\n",
        "            no = ebnodb2no(ebno_db,\n",
        "                           num_bits_per_symbol=self.num_bits_per_symbol,\n",
        "                           coderate=self.k/self.n)\n",
        "\n",
        "        u = self.source([batch_size, self.k]) # tạo dữ liệu ngẫu nhiên, ném vào nguồn\n",
        "        c = self.encoder(u) # mã hóa kênh\n",
        "        x = self.mapper(c) # map c tới x, chuyển tín hiệu số sang tương tự với QAM\n",
        "\n",
        "        y = self.channel([x, no]) # truyền qua kênh có nhiễu trắng (AWGN)\n",
        "\n",
        "        llr_ch = self.demapper([y, no]) # demap y tới LLRs, chuyển tín hiệu tương tự sang tín hiệu số\n",
        "        u_hat = self.decoder(llr_ch) # giải mã kênh\n",
        "\n",
        "        if self.cw_estimates:\n",
        "            return c, u_hat\n",
        "\n",
        "        return u, u_hat"
      ]
    },
    {
      "cell_type": "markdown",
      "metadata": {
        "id": "1ogTJAo0baVx"
      },
      "source": [
        "\n",
        "Khởi tạo các trường hợp mã hóa khác nhau cho trình mô phỏng này. Lưu ý: Mộ số trường hợp không trong 5G nhưng sẽ được đưa vào đây để so sánh."
      ]
    },
    {
      "cell_type": "code",
      "execution_count": null,
      "metadata": {
        "colab": {
          "base_uri": "https://localhost:8080/"
        },
        "id": "WoSXoiJEbnox",
        "outputId": "ece2a5c6-8844-4099-b4e0-e0dcda890069"
      },
      "outputs": [],
      "source": [
        "k = 64 # số bit thông tin trên mỗi từ mã\n",
        "n = 128 # độ dài từ mã mong muốn\n",
        "codes_under_test = []\n",
        "\n",
        "# 5G LDPC codes\n",
        "enc = LDPC5GEncoder(k=k, n=n)\n",
        "dec = LDPC5GDecoder(enc)\n",
        "name = \"LDPC\"\n",
        "codes_under_test.append([enc, dec, name])\n",
        "\n",
        "# Polar Codes (SC decoding)\n",
        "enc = Polar5GEncoder(k=k, n=n)\n",
        "dec = Polar5GDecoder(enc, dec_type=\"SC\")\n",
        "name = \"Polar+CRC SC\"\n",
        "codes_under_test.append([enc, dec, name])\n",
        "\n",
        "# Polar Codes (SCL decoding) với list size 8.\n",
        "# Sẽ tự động thêm CRC bởi layer.\n",
        "enc = Polar5GEncoder(k=k, n=n)\n",
        "dec = Polar5GDecoder(enc, dec_type=\"SCL\", list_size=8)\n",
        "name = \"Polar+CRC SCL-8\"\n",
        "codes_under_test.append([enc, dec, name])"
      ]
    },
    {
      "cell_type": "markdown",
      "metadata": {
        "id": "At6Jt6J8crgI"
      },
      "source": [
        "Tạo Plot mới và thực hiện chạy mô phỏng kết hợp với tốc độ GPU của thiết bị (nếu có)."
      ]
    },
    {
      "cell_type": "code",
      "execution_count": 5,
      "metadata": {
        "id": "Aw7O0adtcv9B"
      },
      "outputs": [],
      "source": [
        "ber_plot128 = PlotBER(f\"Performance of Short Length Codes (k={k}, n={n})\")\n",
        "\n",
        "num_bits_per_symbol = 2 # số bit trên mỗi symbol là 2 - QPSK có chòm sao là 4 điểm\n",
        "ebno_db = np.arange(0, 5, 0.5) # dải giá trị SNR để chạy mô phỏng\n",
        "\n",
        "chạy mô phỏng từ các trường hợp tạo trước đó\n",
        "for code in codes_under_test:\n",
        "    print(\"\\nRunning: \" + code[2])\n",
        "    model = System_Model(k=k,\n",
        "                         n=n,\n",
        "                         num_bits_per_symbol=num_bits_per_symbol,\n",
        "                         encoder=code[0],\n",
        "                         decoder=code[1])\n",
        "\n",
        "    ber_plot128.simulate(model,\n",
        "                         ebno_dbs=ebno_db, # dải giá trị SNR\n",
        "                         legend=code[2],\n",
        "                         max_mc_iter=10, # chạy 100 lượt forward trên mỗi điểm SNR\n",
        "                         num_target_block_errors=1000, # 1000. chuyển sang giá trị SNR tiếp theo nếu vượt quá 1000 block lỗi\n",
        "                         batch_size=10000, # batch-size số block được chạy cùng lúc trên một lần forward\n",
        "                         soft_estimates=False,\n",
        "                         early_stop=True, # dừng mô phỏng nếu phát hiện lỗi trong quá trình chạy\n",
        "                         show_fig=False,\n",
        "                         add_bler=True,\n",
        "                         forward_keyboard_interrupt=True)"
      ]
    },
    {
      "cell_type": "markdown",
      "metadata": {
        "id": "2vle6KS7enxX"
      },
      "source": [
        "Và tỷ lệ BER và BLER"
      ]
    },
    {
      "cell_type": "code",
      "execution_count": null,
      "metadata": {
        "colab": {
          "base_uri": "https://localhost:8080/",
          "height": 1000
        },
        "id": "ImS_0J9YeqSA",
        "outputId": "cda17146-090c-45d9-cfb5-d1c9588a4127"
      },
      "outputs": [],
      "source": [
        "# vẽ đồ thị\n",
        "ber_plot128(ylim=(1e-5, 1), show_bler=False)\n",
        "ber_plot128(ylim=(1e-5, 1), show_ber=False)"
      ]
    },
    {
      "cell_type": "markdown",
      "metadata": {
        "id": "CbLhnKme3sW6"
      },
      "source": [
        "### Hiệu suất của việc Giải mã tối ưu\n",
        "\n",
        "Hiệu suất tỷ lệ lỗi có thể đạt được của loại mã hóa phụ thuộc vào độ mạnh của việc xây dựng mã và hiệu suất của thuật toán giải mã trong thực tế. Dưới đây sẽ ước tính hiệu suất tối đa của tất cả các sơ đồ mã hóa trước đó bằng cách sử dụng bộ giải mã thống kê theo thứ tự (ordered statistic decoder - OSD)."
      ]
    },
    {
      "cell_type": "code",
      "execution_count": 7,
      "metadata": {
        "id": "5JA8M6mA4mzk"
      },
      "outputs": [],
      "source": [
        "legends = [\"LDPC\", \"Polar+CRC\", \"Polar+CRC\"]\n",
        "\n",
        "for idx, code in enumerate(codes_under_test):\n",
        "\n",
        "    if idx==2:\n",
        "        continue\n",
        "\n",
        "    print(\"\\nRunning: \" + code[2] + \" OSD\")\n",
        "\n",
        "    # khởi tạo bộ mã hóa\n",
        "    encoder = code[0]\n",
        "    encoder(tf.zeros((1, k)))\n",
        "\n",
        "    # bộ giải mã với OSD\n",
        "    decoder = OSDecoder(encoder=encoder, t=4)\n",
        "\n",
        "    model = System_Model(k=k,\n",
        "                         n=n,\n",
        "                         num_bits_per_symbol=num_bits_per_symbol,\n",
        "                         encoder=encoder,\n",
        "                         decoder=decoder,\n",
        "                         cw_estimates=True)\n",
        "\n",
        "    ber_plot128.simulate(tf.function(model, jit_compile=True),\n",
        "                         ebno_dbs=ebno_db,\n",
        "                         legend=legends[idx]+f\" OSD\",\n",
        "                         max_mc_iter=100, # 1000\n",
        "                         num_target_block_errors=1000,  # 1000\n",
        "                         batch_size=1000, # 1000\n",
        "                         soft_estimates=False,\n",
        "                         early_stop=True,\n",
        "                         show_fig=False,\n",
        "                         add_bler=True,\n",
        "                         forward_keyboard_interrupt=True);"
      ]
    },
    {
      "cell_type": "markdown",
      "metadata": {
        "id": "iOPKK0695Myx"
      },
      "source": [
        "Và vẽ đồ thị cho giải mã với OSD"
      ]
    },
    {
      "cell_type": "code",
      "execution_count": null,
      "metadata": {
        "colab": {
          "base_uri": "https://localhost:8080/",
          "height": 763
        },
        "id": "KFTEqsmC5UE4",
        "outputId": "10a29d33-a525-4cbf-f8b3-9b0bacefaee8"
      },
      "outputs": [],
      "source": [
        "plots_to_show = ['LDPC (BLER)', 'LDPC OSD (BLER)', 'Polar+CRC SCL-8 (BLER)', 'Polar+CRC OSD (BLER)']\n",
        "\n",
        "idx = []\n",
        "for p in plots_to_show:\n",
        "    for i,l in enumerate(ber_plot128._legends):\n",
        "        if p==l:\n",
        "            idx.append(i)\n",
        "\n",
        "fig, ax = plt.subplots(figsize=(16,12))\n",
        "plt.xticks(fontsize=18)\n",
        "plt.yticks(fontsize=18)\n",
        "# plt.title(f\"Performance under Ordered Statistic Decoding (k={k},n={n})\", fontsize=25)\n",
        "plt.grid(which=\"both\")\n",
        "plt.xlabel(r\"$E_b/N_0$ (dB)\", fontsize=25)\n",
        "plt.ylabel(r\"BLER\", fontsize=25)\n",
        "\n",
        "for i in range(int(len(idx)/2)):\n",
        "\n",
        "    # non-OSD\n",
        "    plt.semilogy(ebno_db,\n",
        "                 ber_plot128._bers[idx[2*i]],\n",
        "                 c='C%d'%(i),\n",
        "                 label=ber_plot128._legends[idx[2*i]].replace(\" (BLER)\", \"\"), #remove \"(BLER)\" from label\n",
        "                 linewidth=2)\n",
        "    # OSD\n",
        "    plt.semilogy(ebno_db,\n",
        "                 ber_plot128._bers[idx[2*i+1]],\n",
        "                 c='C%d'%(i),\n",
        "                 label= ber_plot128._legends[idx[2*i+1]].replace(\" (BLER)\", \"\"), #remove \"(BLER)\" from label\n",
        "                 linestyle = \"--\",\n",
        "                 linewidth=2)\n",
        "\n",
        "plt.legend(fontsize=20)\n",
        "plt.xlim([0, 4.5])\n",
        "plt.ylim([1e-4, 1]);"
      ]
    },
    {
      "cell_type": "markdown",
      "metadata": {
        "id": "p_IneYKT5gAn"
      },
      "source": [
        "### Hiệu suất của mã LDPC dài hơn\n",
        "\n",
        "Trong trường hợp từ mã dài hơn. Dưới đây sẽ so sánh các trường hợp LDPC khác nhau."
      ]
    },
    {
      "cell_type": "code",
      "execution_count": 9,
      "metadata": {
        "id": "dQM8Hirf6jNx"
      },
      "outputs": [],
      "source": [
        "ber_plot_ldpc = PlotBER(f\"BER/BLER Performance of LDPC Codes @ Fixed Rate=0.5\")\n",
        "\n",
        "# số lượng từ mã để mô phỏng\n",
        "ns = [128, 256, 512, 1000, 2000, 4000, 8000, 16000]\n",
        "rate = 0.5 # tỷ lệ coderate cố định, nghĩa là từ mã ban đầu qua mã hóa kênh sẽ dài gấp đôi\n",
        "\n",
        "codes_under_test = []\n",
        "\n",
        "# 5G LDPC codes\n",
        "for n in ns:\n",
        "    k = int(rate*n) # tính k từ tỷ lệ rate trước đó\n",
        "    enc = LDPC5GEncoder(k=k, n=n)\n",
        "    dec = LDPC5GDecoder(enc)\n",
        "    name = f\"LDPC n={n}\"\n",
        "    codes_under_test.append([enc, dec, name, k, n])\n",
        "\n",
        "num_bits_per_symbol = 2 # QPSK\n",
        "\n",
        "ebno_db = np.arange(0, 5, 0.25)\n",
        "\n",
        "# chạy mô phỏng cho từng trường hợp chiều dài\n",
        "for code in codes_under_test:\n",
        "    print(\"Running: \" + code[2])\n",
        "    model = System_Model(k=code[3],\n",
        "                         n=code[4],\n",
        "                         num_bits_per_symbol=num_bits_per_symbol,\n",
        "                         encoder=code[0],\n",
        "                         decoder=code[1])\n",
        "\n",
        "    ber_plot_ldpc.simulate(model,\n",
        "                           ebno_dbs=ebno_db,\n",
        "                           legend=code[2],\n",
        "                           max_mc_iter=100,\n",
        "                           num_target_block_errors=500, # cố định thông số này block errors\n",
        "                           batch_size=1000,\n",
        "                           soft_estimates=False,\n",
        "                           early_stop=True,\n",
        "                           show_fig=False,\n",
        "                           forward_keyboard_interrupt=True);"
      ]
    },
    {
      "cell_type": "code",
      "execution_count": null,
      "metadata": {
        "colab": {
          "base_uri": "https://localhost:8080/",
          "height": 656
        },
        "id": "8roeGPqj7SIi",
        "outputId": "df846456-a45a-4621-b987-34de34eb717e"
      },
      "outputs": [],
      "source": [
        "# vẽ đồ thị\n",
        "ber_plot_ldpc(ylim=(1e-5, 1))"
      ]
    },
    {
      "cell_type": "markdown",
      "metadata": {
        "id": "S_8jF5s0flcm"
      },
      "source": [
        "## Throughput và độ phức tạp giải mã\n",
        "\n",
        "Với giải mã belief propagation (BP) trong LDPC có độ phức tạp là $\\mathcal{O}(n)$. Vì vậy mô phỏng dưới đây sẽ thực hiện kiểm chứng điều đó.\n",
        "\n",
        "Hàm lấy Throughput"
      ]
    },
    {
      "cell_type": "code",
      "execution_count": 11,
      "metadata": {
        "id": "Hak-XTq3fmwm"
      },
      "outputs": [],
      "source": [
        "def get_throughput(batch_size, ebno_dbs, model, repetitions=1):\n",
        "    \"\"\" Chạy mô phỏng throughput với bit/s trên từng ebno_dbs.\n",
        "\n",
        "    Kết quả là giá trị trung bình sau `repetition` lần lặp lại.\n",
        "\n",
        "    Input\n",
        "    -----\n",
        "    batch_size: tf.int32\n",
        "        Batch-size để chạy\n",
        "\n",
        "    ebno_dbs: tf.float32\n",
        "        Một tensor chứa các điểm SNR để đánh giá.\n",
        "\n",
        "    model:\n",
        "        Hàm hoặc model chứa các bit truyền `u` và bên nhận `u_hat`\n",
        "        từ ``batch_size`` và ``ebno_db`` đã có trước đó.\n",
        "\n",
        "    repetitions: int\n",
        "        Số lần lặp lại mô phỏng để có kết quả trung bình.\n",
        "\n",
        "    \"\"\"\n",
        "    throughput = np.zeros_like(ebno_dbs)\n",
        "\n",
        "    # gọi model.\n",
        "    u, u_hat = model(tf.constant(batch_size, tf.int32),\n",
        "                     tf.constant(0., tf.float32))\n",
        "\n",
        "    for idx, ebno_db in enumerate(ebno_dbs):\n",
        "\n",
        "        t_start = time.perf_counter()\n",
        "        # trung bình cho nhiều lần chạy\n",
        "        for _ in range(repetitions):\n",
        "            u, u_hat = model(tf.constant(batch_size, tf.int32),\n",
        "                             tf.constant(ebno_db, tf. float32))\n",
        "        t_stop = time.perf_counter()\n",
        "        # throughput (bit/s)\n",
        "        throughput[idx] = np.size(u.numpy())*repetitions / (t_stop - t_start)\n",
        "\n",
        "    return throughput"
      ]
    },
    {
      "cell_type": "markdown",
      "metadata": {
        "id": "FExh7WDEfqIA"
      },
      "source": [
        "Chạy mô phỏng"
      ]
    },
    {
      "cell_type": "code",
      "execution_count": null,
      "metadata": {
        "colab": {
          "base_uri": "https://localhost:8080/"
        },
        "id": "DTZ8p3u8fsIo",
        "outputId": "9a3f8c37-eaea-40ee-c7b7-9804748ca7e9"
      },
      "outputs": [],
      "source": [
        "# vẽ đồ thị throughput và ber cho mã ldpc\n",
        "num_bits_per_symbol = 2 # QPSK\n",
        "\n",
        "ebno_db = [5] # SNR để mô phỏng\n",
        "num_bits_per_batch = 5e6 # giảm giá trị này nếu như tràn ram\n",
        "num_repetitions = 20 # số lần chạy lại trên mỗi giá trị mô phỏng\n",
        "\n",
        "# chạy mô phỏng throughput cho mỗi loại mã\n",
        "throughput = np.zeros(len(codes_under_test))\n",
        "code_length = np.zeros(len(codes_under_test))\n",
        "for idx, code in enumerate(codes_under_test):\n",
        "    print(\"Running: \" + code[2])\n",
        "\n",
        "    # lưu chiều dài từ mã để vẽ đồ thị\n",
        "    code_length[idx] = code[4]\n",
        "\n",
        "    # khởi tạo model mới từ encoder/decoder\n",
        "    model = System_Model(k=code[3],\n",
        "                         n=code[4],\n",
        "                         num_bits_per_symbol=num_bits_per_symbol,\n",
        "                         encoder=code[0],\n",
        "                         decoder=code[1])\n",
        "\n",
        "    batch_size = int(num_bits_per_batch / code[4])\n",
        "    # tính throughput cho model này\n",
        "    throughput[idx] = get_throughput(batch_size,\n",
        "                                     ebno_db,\n",
        "                                     model,\n",
        "                                     repetitions=num_repetitions)"
      ]
    },
    {
      "cell_type": "markdown",
      "metadata": {
        "id": "bCP6E9uhgGNq"
      },
      "source": [
        "Vẽ đồ thị"
      ]
    },
    {
      "cell_type": "code",
      "execution_count": null,
      "metadata": {
        "colab": {
          "base_uri": "https://localhost:8080/",
          "height": 669
        },
        "id": "6mOuv77_gH-q",
        "outputId": "b1bb488d-d086-47cb-9cf9-f29b38e15e62"
      },
      "outputs": [],
      "source": [
        "plt.figure(figsize=(16,10))\n",
        "\n",
        "plt.xticks(fontsize=18)\n",
        "plt.yticks(fontsize=18)\n",
        "\n",
        "# plt.title(\"Throughput LDPC Decoding @ rate=0.5\", fontsize=25)\n",
        "plt.xlabel(\"Codeword length\", fontsize=25)\n",
        "plt.ylabel(\"Throughput (Mbit/s)\", fontsize=25)\n",
        "plt.grid(which=\"both\")\n",
        "\n",
        "# vẽ đồ thị kết quả\n",
        "x_tick_labels = code_length.astype(int)\n",
        "plt.xticks(ticks=np.log2(code_length),labels=x_tick_labels, fontsize=18)\n",
        "plt.plot(np.log2(code_length), throughput/1e6)"
      ]
    },
    {
      "attachments": {},
      "cell_type": "markdown",
      "metadata": {},
      "source": [
        "Chạy đo throughput với trường hợp giải mã sử dụng thuật toán OSD"
      ]
    },
    {
      "cell_type": "code",
      "execution_count": null,
      "metadata": {
        "colab": {
          "base_uri": "https://localhost:8080/"
        },
        "id": "dSGq8Bftf5ii",
        "outputId": "be209304-7ddd-476e-ee8f-ac81cb85411a"
      },
      "outputs": [],
      "source": [
        "ns = [64, 128, 256]\n",
        "\n",
        "codes_under_test = []\n",
        "\n",
        "# 5G LDPC OSD decodes\n",
        "for n in ns:\n",
        "    k = int(rate*n) # tính k từ tỷ lệ rate trước đó\n",
        "    enc = LDPC5GEncoder(k=k, n=n)\n",
        "    dec = OSDecoder(encoder=enc, t=1)\n",
        "    name = f\"LDPC OSD n={n}\"\n",
        "    codes_under_test.append([enc, dec, name, k, n])\n",
        "\n",
        "for idx, code in enumerate(codes_under_test):\n",
        "    print(\"Running: \" + code[2])\n",
        "\n",
        "    # khởi tạo model mới từ encoder/decoder\n",
        "    model = System_Model(k=code[3],\n",
        "                         n=code[4],\n",
        "                         num_bits_per_symbol=num_bits_per_symbol,\n",
        "                         encoder=code[0],\n",
        "                         decoder=code[1])\n",
        "\n",
        "    batch_size = int(num_bits_per_batch / code[4])\n",
        "    # tính throughput cho model này\n",
        "    throughput[idx] = get_throughput(batch_size,\n",
        "                                     ebno_db,\n",
        "                                     model,\n",
        "                                     repetitions=num_repetitions)"
      ]
    },
    {
      "attachments": {},
      "cell_type": "markdown",
      "metadata": {},
      "source": [
        "Vẽ đồ thị kết quả"
      ]
    },
    {
      "cell_type": "code",
      "execution_count": null,
      "metadata": {
        "colab": {
          "base_uri": "https://localhost:8080/",
          "height": 645
        },
        "id": "i-UfGTkPDAN2",
        "outputId": "9240b390-973b-4284-a14e-c8f83321ddf1"
      },
      "outputs": [],
      "source": [
        "plt.figure(figsize=(16,10))\n",
        "\n",
        "plt.xticks(fontsize=18)\n",
        "plt.yticks(fontsize=18)\n",
        "\n",
        "# plt.title(\"Throughput LDPC OSD Decoding @ rate=0.5\", fontsize=25)\n",
        "plt.xlabel(\"Codeword length\", fontsize=25)\n",
        "plt.ylabel(\"Throughput (Mbit/s)\", fontsize=25)\n",
        "plt.grid(which=\"both\")\n",
        "\n",
        "code_length = code_length[:3]\n",
        "# vẽ đồ thị kết quả\n",
        "x_tick_labels = code_length.astype(int)\n",
        "plt.xticks(ticks=np.log2(code_length),labels=x_tick_labels, fontsize=18)\n",
        "plt.plot(np.log2(code_length), throughput[:3]/1e6)"
      ]
    }
  ],
  "metadata": {
    "accelerator": "GPU",
    "colab": {
      "provenance": []
    },
    "gpuClass": "standard",
    "kernelspec": {
      "display_name": "Python 3",
      "name": "python3"
    },
    "language_info": {
      "name": "python"
    }
  },
  "nbformat": 4,
  "nbformat_minor": 0
}
